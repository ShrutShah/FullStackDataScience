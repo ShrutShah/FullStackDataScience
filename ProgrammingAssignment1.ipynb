{
  "nbformat": 4,
  "nbformat_minor": 0,
  "metadata": {
    "colab": {
      "name": "ProgrammingAssignment1.ipynb",
      "provenance": []
    },
    "kernelspec": {
      "name": "python3",
      "display_name": "Python 3"
    },
    "language_info": {
      "name": "python"
    }
  },
  "cells": [
    {
      "cell_type": "code",
      "execution_count": 1,
      "metadata": {
        "colab": {
          "base_uri": "https://localhost:8080/"
        },
        "id": "xMBd5RrfzxBU",
        "outputId": "cf405a61-f3cb-4c08-ea3b-71690fb5d69a"
      },
      "outputs": [
        {
          "output_type": "stream",
          "name": "stdout",
          "text": [
            "Hello Python\n"
          ]
        }
      ],
      "source": [
        "#1.Write a Python program to print \"Hello Python\"?\n",
        "\n",
        "print('Hello Python')"
      ]
    },
    {
      "cell_type": "code",
      "source": [
        "#2.Write a Python program to do arithmetical operations addition and division.?\n",
        "\n",
        "b = 1+2\n",
        "c =10/2\n"
      ],
      "metadata": {
        "id": "hNkrl2Nt0ExL"
      },
      "execution_count": 2,
      "outputs": []
    },
    {
      "cell_type": "code",
      "source": [
        "#3.Write a Python program to find the area of a triangle?\n",
        "\n",
        "\n",
        "\n",
        "def area():\n",
        "  b=float(input('Enter base '))\n",
        "  h=float(input('Enter height '))\n",
        "  a = (0.5)*b*h\n",
        "  return a\n",
        "\n",
        "d=area()\n",
        "print('Area of triangle:{}'.format(d))"
      ],
      "metadata": {
        "colab": {
          "base_uri": "https://localhost:8080/"
        },
        "id": "4T2IerdQ0Ey0",
        "outputId": "d5264818-1098-4edd-9548-60b041bfc252"
      },
      "execution_count": 11,
      "outputs": [
        {
          "output_type": "stream",
          "name": "stdout",
          "text": [
            "Enter base 3.2\n",
            "Enter height 8.9\n",
            "Area of triangle:14.240000000000002\n"
          ]
        }
      ]
    },
    {
      "cell_type": "code",
      "source": [
        "#4.Write a Python program to swap two variables?\n",
        "\n",
        "def swap(no1,no2):\n",
        "  c=no1\n",
        "  no1=no2\n",
        "  no2=c\n",
        "  return no1,no2\n",
        "\n",
        "a = input('Enter no1 ') \n",
        "b = input('Enter no2 ')\n",
        "\n",
        "print('Before Swap no1: {} no2: {}'.format(a,b))\n",
        "no1,no2 = swap(a,b)\n",
        "print('After Swap no1: {} no2: {}'.format(no1,no2))\n",
        "\n",
        "\n",
        "  "
      ],
      "metadata": {
        "colab": {
          "base_uri": "https://localhost:8080/"
        },
        "id": "HP2b5f2t0E2R",
        "outputId": "05ee88f3-4ff2-43ab-c2ed-1e2ebb929339"
      },
      "execution_count": 16,
      "outputs": [
        {
          "output_type": "stream",
          "name": "stdout",
          "text": [
            "Enter no1 2\n",
            "Enter no2 3\n",
            "Before Swap no1: 2 no2: 3\n",
            "After Swap no1: 3 no2: 2\n"
          ]
        }
      ]
    },
    {
      "cell_type": "code",
      "source": [
        "#5.Write a Python program to generate a random number?\n",
        "\n",
        "import random as rm\n",
        "\n",
        "print(rm.random())"
      ],
      "metadata": {
        "colab": {
          "base_uri": "https://localhost:8080/"
        },
        "id": "x47V-mhG0E4d",
        "outputId": "e81861e1-6cca-4f28-fa2c-76b471dc75d3"
      },
      "execution_count": 22,
      "outputs": [
        {
          "output_type": "stream",
          "name": "stdout",
          "text": [
            "0.702629112433893\n"
          ]
        }
      ]
    }
  ]
}