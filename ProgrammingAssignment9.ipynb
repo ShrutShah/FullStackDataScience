{
  "nbformat": 4,
  "nbformat_minor": 0,
  "metadata": {
    "colab": {
      "name": "ProgrammingAssignment9.ipynb",
      "provenance": [],
      "collapsed_sections": []
    },
    "kernelspec": {
      "name": "python3",
      "display_name": "Python 3"
    },
    "language_info": {
      "name": "python"
    }
  },
  "cells": [
    {
      "cell_type": "code",
      "execution_count": 14,
      "metadata": {
        "colab": {
          "base_uri": "https://localhost:8080/"
        },
        "id": "fMhIonxvnwgO",
        "outputId": "7fffb469-752c-4b64-af09-b83bbe63f1e4"
      },
      "outputs": [
        {
          "output_type": "stream",
          "name": "stdout",
          "text": [
            "Enter no 135\n",
            "Disarium No.\n"
          ]
        }
      ],
      "source": [
        "#1.Write a Python program to check if the given number is a Disarium Number?\n",
        "\n",
        "def disa(n):\n",
        "  r=[]\n",
        "  while n !=0:\n",
        "    temp = n%10\n",
        "    r.insert(0,temp)\n",
        "    n = int(n/10)\n",
        "\n",
        "  sum=0\n",
        "  for i in range(len(r)):\n",
        "    sum+=r[i]**(i+1)\n",
        "  \n",
        "  return sum\n",
        "no = int(input('Enter no '))\n",
        "\n",
        "sum1 = disa(no)\n",
        "\n",
        "if sum1 == no:\n",
        "  print('Disarium No.')\n",
        "else:\n",
        "  print('No')\n",
        "\n"
      ]
    },
    {
      "cell_type": "code",
      "source": [
        "no = int(input('Enter no '))\n",
        "\n",
        "sum1 = disa(no)\n",
        "\n",
        "if sum1 == no:\n",
        "  print('Disarium No.')\n",
        "else:\n",
        "  print('No')"
      ],
      "metadata": {
        "colab": {
          "base_uri": "https://localhost:8080/"
        },
        "id": "z1JWR2ctrIIU",
        "outputId": "b36aad89-174c-4d04-d4d4-b3b4d33d80bc"
      },
      "execution_count": 16,
      "outputs": [
        {
          "output_type": "stream",
          "name": "stdout",
          "text": [
            "Enter no 80\n",
            "No\n"
          ]
        }
      ]
    },
    {
      "cell_type": "code",
      "source": [
        "#2.Write a Python program to print all disarium numbers between 1 to 100?\n",
        "\n",
        "def disa(n):\n",
        "  n1 = n\n",
        "  r=[]\n",
        "  while n !=0:\n",
        "    temp = n%10\n",
        "    r.insert(0,temp)\n",
        "    n = int(n/10)\n",
        "\n",
        "  sum=0\n",
        "  for i in range(len(r)):\n",
        "    sum+=r[i]**(i+1)\n",
        "  \n",
        "  if sum == n1:\n",
        "    return 1\n",
        "  \n",
        "  else:\n",
        "    return 0\n",
        "l=[]\n",
        "for i in range(1,101):\n",
        "  if disa(i):\n",
        "    l.append(i)\n",
        "\n",
        "print('List',l)"
      ],
      "metadata": {
        "colab": {
          "base_uri": "https://localhost:8080/"
        },
        "id": "HObOT4eXsGgV",
        "outputId": "0da7f65b-511c-489c-e29b-01d6c17093ac"
      },
      "execution_count": 17,
      "outputs": [
        {
          "output_type": "stream",
          "name": "stdout",
          "text": [
            "List [1, 2, 3, 4, 5, 6, 7, 8, 9, 89]\n"
          ]
        }
      ]
    },
    {
      "cell_type": "code",
      "source": [
        "#3.Write a Python program to check if the given number is Happy Number?\n",
        "\n",
        "def happy(n):\n",
        "  r=[]\n",
        "  sum=0\n",
        "  k=0\n",
        "  while k<100:\n",
        "    k+=1\n",
        "    r=[]\n",
        "    while n !=0:\n",
        "      temp = n%10\n",
        "      r.insert(0,temp)\n",
        "      n = int(n/10)    \n",
        "\n",
        "    sum=0\n",
        "    for i in range(len(r)):\n",
        "      sum+=r[i]**(2)\n",
        "    if sum == 1:\n",
        "      break \n",
        "    n=sum  \n",
        "  if sum == 1:\n",
        "    print('Happy No.')\n",
        "  else:\n",
        "    print('No')\n"
      ],
      "metadata": {
        "id": "bP13rWpgsGcd"
      },
      "execution_count": 34,
      "outputs": []
    },
    {
      "cell_type": "code",
      "source": [
        "no = int(input('Enter no '))\n",
        "sum1 = happy(no)"
      ],
      "metadata": {
        "colab": {
          "base_uri": "https://localhost:8080/"
        },
        "id": "nG7gSczMBEES",
        "outputId": "05f6be2e-b4d7-4aad-ca40-4d4c1a6d0626"
      },
      "execution_count": 35,
      "outputs": [
        {
          "output_type": "stream",
          "name": "stdout",
          "text": [
            "Enter no 19\n",
            "Happy No.\n"
          ]
        }
      ]
    },
    {
      "cell_type": "code",
      "source": [
        "#4.Write a Python program to print all happy numbers between 1 and 100?\n",
        "\n",
        "def happy(n):\n",
        "  r=[]\n",
        "  sum=0\n",
        "  k=0\n",
        "  while k<100:\n",
        "    k+=1\n",
        "    r=[]\n",
        "    while n !=0:\n",
        "      temp = n%10\n",
        "      r.insert(0,temp)\n",
        "      n = int(n/10)    \n",
        "\n",
        "    sum=0\n",
        "    for i in range(len(r)):\n",
        "      sum+=r[i]**(2)\n",
        "    if sum == 1:\n",
        "      break \n",
        "    n=sum  \n",
        "  if sum == 1:\n",
        "    return 1\n",
        "  else:\n",
        "    return 0"
      ],
      "metadata": {
        "id": "szxTOF5LsGaC"
      },
      "execution_count": 36,
      "outputs": []
    },
    {
      "cell_type": "code",
      "source": [
        "r=[]\n",
        "for i in range(1,101):\n",
        "  flag = happy(i)\n",
        "  if flag:\n",
        "    r.append(i)\n",
        "\n",
        "\n"
      ],
      "metadata": {
        "id": "-9Pdai72n3u0"
      },
      "execution_count": 37,
      "outputs": []
    },
    {
      "cell_type": "code",
      "source": [
        "print('happy numbers: ',r)"
      ],
      "metadata": {
        "colab": {
          "base_uri": "https://localhost:8080/"
        },
        "id": "IeXEb8lfn3xn",
        "outputId": "fa7e2132-53a7-4249-8f4c-5d02d43471e2"
      },
      "execution_count": 38,
      "outputs": [
        {
          "output_type": "stream",
          "name": "stdout",
          "text": [
            "happy numbers:  [1, 7, 10, 13, 19, 23, 28, 31, 32, 44, 49, 68, 70, 79, 82, 86, 91, 94, 97, 100]\n"
          ]
        }
      ]
    },
    {
      "cell_type": "code",
      "source": [
        "#5.Write a Python program to determine whether the given number is a 5.Write a Python program to determine whether the given number is a Harshad Number?\n",
        "\n",
        "def harshad(n):\n",
        "  r=[]\n",
        "  n1=n\n",
        "  while n !=0:\n",
        "      temp = n%10\n",
        "      r.insert(0,temp)\n",
        "      n = int(n/10) \n",
        "  sum=0\n",
        "  for j in r:\n",
        "    sum +=j\n",
        "  \n",
        "  if n1%sum ==0:\n",
        "    print('Harshad')\n",
        "  else:\n",
        "    print('No')\n"
      ],
      "metadata": {
        "id": "cp7U7UM-UQ92"
      },
      "execution_count": 39,
      "outputs": []
    },
    {
      "cell_type": "code",
      "source": [
        "harshad(18)"
      ],
      "metadata": {
        "colab": {
          "base_uri": "https://localhost:8080/"
        },
        "id": "AuHWZKl7UWg9",
        "outputId": "e8826ae8-596a-4c22-8af4-2b100e3ca8ad"
      },
      "execution_count": 40,
      "outputs": [
        {
          "output_type": "stream",
          "name": "stdout",
          "text": [
            "Harshad\n"
          ]
        }
      ]
    },
    {
      "cell_type": "code",
      "source": [
        "harshad(19)"
      ],
      "metadata": {
        "colab": {
          "base_uri": "https://localhost:8080/"
        },
        "id": "3-uGVsuiWkkh",
        "outputId": "bca5e616-7c2d-4f50-9644-37d77f9e5e67"
      },
      "execution_count": 41,
      "outputs": [
        {
          "output_type": "stream",
          "name": "stdout",
          "text": [
            "No\n"
          ]
        }
      ]
    },
    {
      "cell_type": "code",
      "source": [
        "#6.Write a Python program to print all pronic numbers between 1 and 100?\n",
        "\n",
        "def protonic(n):\n",
        "  for i in range(0,n+1): #0,1,2\n",
        "    if i!= n:\n",
        "      p = i*(i+1)  \n",
        "      if n == p:\n",
        "        return 1\n",
        "\n",
        "r=[]\n",
        "for j in range(1,101):\n",
        "  if protonic(j):\n",
        "    r.append(j)      \n",
        "\n",
        "print('Protonic : ',r)\n"
      ],
      "metadata": {
        "colab": {
          "base_uri": "https://localhost:8080/"
        },
        "id": "YuY8at-zUWdP",
        "outputId": "3d39f85a-a63c-491f-ed85-af97e276eb57"
      },
      "execution_count": 81,
      "outputs": [
        {
          "output_type": "stream",
          "name": "stdout",
          "text": [
            "Protonic :  [2, 6, 12, 20, 30, 42, 56, 72, 90]\n"
          ]
        }
      ]
    }
  ]
}