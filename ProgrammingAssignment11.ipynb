{
  "nbformat": 4,
  "nbformat_minor": 0,
  "metadata": {
    "colab": {
      "name": "ProgrammingAssignment11.ipynb",
      "provenance": []
    },
    "kernelspec": {
      "name": "python3",
      "display_name": "Python 3"
    },
    "language_info": {
      "name": "python"
    }
  },
  "cells": [
    {
      "cell_type": "code",
      "execution_count": 1,
      "metadata": {
        "colab": {
          "base_uri": "https://localhost:8080/"
        },
        "id": "7cYjW_iJw9Hu",
        "outputId": "0aace70b-1273-4057-dc1a-5ea6958cd16d"
      },
      "outputs": [
        {
          "output_type": "stream",
          "name": "stdout",
          "text": [
            "Enter length 6\n",
            "Palindrome\n",
            "divyeshkumar\n"
          ]
        }
      ],
      "source": [
        "#1.Write a Python program to find words which are greater than given length k?\n",
        "\n",
        "l = ['shrut','Palindrome','jack','lancer','shah','divyeshkumar']\n",
        "k =int(input('Enter length '))\n",
        "for i in l:\n",
        "  if len(i) > k:\n",
        "    print(i)  "
      ]
    },
    {
      "cell_type": "code",
      "source": [
        "#2.Write a Python program for removing i-th character from a string?\n",
        "l = 'hi shrut this side. Who are you?'\n",
        "k =int(input('ith value '))\n",
        "\n",
        "a = l[0:k]\n",
        "\n",
        "b = l[k+1:len(l)]\n",
        "\n",
        "    "
      ],
      "metadata": {
        "colab": {
          "base_uri": "https://localhost:8080/"
        },
        "id": "BAItN1aExJD_",
        "outputId": "417f6b39-9bfa-4914-990d-f40a5b84f8d7"
      },
      "execution_count": 18,
      "outputs": [
        {
          "name": "stdout",
          "output_type": "stream",
          "text": [
            "ith value 4\n"
          ]
        }
      ]
    },
    {
      "cell_type": "code",
      "source": [
        "a"
      ],
      "metadata": {
        "colab": {
          "base_uri": "https://localhost:8080/",
          "height": 35
        },
        "id": "FYvqscM1xJG7",
        "outputId": "ec53be60-13cd-4bf5-d54b-ad1b53b22eec"
      },
      "execution_count": 19,
      "outputs": [
        {
          "output_type": "execute_result",
          "data": {
            "application/vnd.google.colaboratory.intrinsic+json": {
              "type": "string"
            },
            "text/plain": [
              "'hi s'"
            ]
          },
          "metadata": {},
          "execution_count": 19
        }
      ]
    },
    {
      "cell_type": "code",
      "source": [
        "b"
      ],
      "metadata": {
        "colab": {
          "base_uri": "https://localhost:8080/",
          "height": 35
        },
        "id": "-TJUJFlXxJJp",
        "outputId": "234f7ec8-9f39-4243-c21f-c0ab40d45bf9"
      },
      "execution_count": 20,
      "outputs": [
        {
          "output_type": "execute_result",
          "data": {
            "application/vnd.google.colaboratory.intrinsic+json": {
              "type": "string"
            },
            "text/plain": [
              "'rut this side. Who are you?'"
            ]
          },
          "metadata": {},
          "execution_count": 20
        }
      ]
    },
    {
      "cell_type": "code",
      "source": [
        "s =a+b\n"
      ],
      "metadata": {
        "id": "oO8vJeo_3-5H"
      },
      "execution_count": 21,
      "outputs": []
    },
    {
      "cell_type": "code",
      "source": [
        "print(s)"
      ],
      "metadata": {
        "colab": {
          "base_uri": "https://localhost:8080/"
        },
        "id": "7cnzC_Pv4D-l",
        "outputId": "884c592a-dd53-4cfb-9b05-729cc1ff7565"
      },
      "execution_count": 22,
      "outputs": [
        {
          "output_type": "stream",
          "name": "stdout",
          "text": [
            "hi srut this side. Who are you?\n"
          ]
        }
      ]
    },
    {
      "cell_type": "code",
      "source": [
        "#3.Write a Python program to split and join a string?\n",
        "\n",
        "l = 'hi shrut this side. Who are you?'\n",
        "k =int(input('split at '))\n",
        "\n",
        "a = l[0:k+1]\n",
        "\n",
        "b = l[k+1:len(l)]\n",
        "\n",
        "    "
      ],
      "metadata": {
        "colab": {
          "base_uri": "https://localhost:8080/"
        },
        "id": "UqrDH5_xxJL1",
        "outputId": "a2f37fcd-a7d2-4563-ebf8-2a04a3a9247f"
      },
      "execution_count": 26,
      "outputs": [
        {
          "name": "stdout",
          "output_type": "stream",
          "text": [
            "split at 18\n"
          ]
        }
      ]
    },
    {
      "cell_type": "code",
      "source": [
        "print(a)\n",
        "print(b)"
      ],
      "metadata": {
        "colab": {
          "base_uri": "https://localhost:8080/"
        },
        "id": "C3wy1Dbt6QeJ",
        "outputId": "e70de412-d41d-46e2-84eb-d8b9ce713d97"
      },
      "execution_count": 27,
      "outputs": [
        {
          "output_type": "stream",
          "name": "stdout",
          "text": [
            "hi shrut this side.\n",
            " Who are you?\n"
          ]
        }
      ]
    },
    {
      "cell_type": "code",
      "source": [
        "#4.Write a Python to check if a given string is binary string or not?\n",
        "\n",
        "a = '010001110101010010001'\n",
        "b = 'Shrut0110Shah'\n",
        "\n",
        "for i in range(len(a)):\n",
        "  if a[i]=='0' or a[i]=='1':    \n",
        "    continue\n",
        "  else:\n",
        "    break\n",
        "if i == len(a)-1:\n",
        "  print(\"Yes, It's a binary string\")\n",
        "else:\n",
        "  print('No')\n"
      ],
      "metadata": {
        "colab": {
          "base_uri": "https://localhost:8080/"
        },
        "id": "iVpWgyAKxMIO",
        "outputId": "c0af681d-95df-47d8-fff8-e7eacb26e0f5"
      },
      "execution_count": 32,
      "outputs": [
        {
          "output_type": "stream",
          "name": "stdout",
          "text": [
            "Yes, It's a binary string\n"
          ]
        }
      ]
    },
    {
      "cell_type": "code",
      "source": [
        "a = 'Shrut0110Shah'\n",
        "for i in range(len(a)):\n",
        "  if a[i]=='0' or a[i]=='1':    \n",
        "    continue\n",
        "  else:\n",
        "    break\n",
        "if i == len(a)-1:\n",
        "  print(\"Yes, It's a binary string\")\n",
        "else:\n",
        "  print('No')"
      ],
      "metadata": {
        "colab": {
          "base_uri": "https://localhost:8080/"
        },
        "id": "nSp2zMFG8SS7",
        "outputId": "1a1c8ebe-e1f0-4f0b-925d-090c98ebb89c"
      },
      "execution_count": 33,
      "outputs": [
        {
          "output_type": "stream",
          "name": "stdout",
          "text": [
            "No\n"
          ]
        }
      ]
    },
    {
      "cell_type": "code",
      "source": [
        "#5.Write a Python program to find uncommon words from two Strings?\n",
        "\n",
        "a ='This is my string class'\n",
        "b ='This is my python class'\n",
        "\n",
        "l=a.split(sep=' ')\n",
        "l1=b.split(sep=' ')\n",
        "l_final=[]\n",
        "for i in range(len(l)):\n",
        "  if l[i] not in l1:\n",
        "    l_final.append(l[i])\n",
        "\n",
        "for j in range(len(l1)):\n",
        "  if l1[j] not in l:\n",
        "    l_final.append(l1[j])\n",
        "\n",
        "print(l_final)"
      ],
      "metadata": {
        "colab": {
          "base_uri": "https://localhost:8080/"
        },
        "id": "Jr_EaOg_8krg",
        "outputId": "20a5df21-f870-4830-f4ec-85ca5a973fb0"
      },
      "execution_count": 36,
      "outputs": [
        {
          "output_type": "stream",
          "name": "stdout",
          "text": [
            "['string', 'python']\n"
          ]
        }
      ]
    },
    {
      "cell_type": "code",
      "source": [
        "#6.Write a Python to find all duplicate characters in string?\n",
        "\n",
        "a = 'this is audible'\n",
        "c=0\n",
        "s=[]\n",
        "for i in range(len(a)):\n",
        "  c=0\n",
        "  for j in range(len(a)):\n",
        "    if a[j]== a[i]:\n",
        "      c+=1\n",
        "      if c>1:\n",
        "        if a[i] not in s:\n",
        "          s.append(a[i])\n"
      ],
      "metadata": {
        "id": "t3NzBujL8kpV"
      },
      "execution_count": 46,
      "outputs": []
    },
    {
      "cell_type": "code",
      "source": [
        "s"
      ],
      "metadata": {
        "colab": {
          "base_uri": "https://localhost:8080/"
        },
        "id": "2b26m6uV8kms",
        "outputId": "73c0b472-e64a-40fb-991c-4dbd5348dd5f"
      },
      "execution_count": 47,
      "outputs": [
        {
          "output_type": "execute_result",
          "data": {
            "text/plain": [
              "['i', 's', ' ']"
            ]
          },
          "metadata": {},
          "execution_count": 47
        }
      ]
    },
    {
      "cell_type": "code",
      "source": [
        "#7.Write a Python Program to check if a string contains any special character?\n",
        "\n",
        "a=['!','\"','#','$','%','&',\"'\",'(',')','*','+',',','-','.','/',':',';','<','=','>','?','@','[', \"]\",'^','_','`','{','|','}','~','\\\\' ]\n",
        "s=\"this is speci@l $\"\n",
        "for i in s:\n",
        "  if i in a:\n",
        "    print('special char',i)"
      ],
      "metadata": {
        "colab": {
          "base_uri": "https://localhost:8080/"
        },
        "id": "QUark5C18kj1",
        "outputId": "073ed7a9-b4cf-421d-bd71-f366e2b3ff41"
      },
      "execution_count": 48,
      "outputs": [
        {
          "output_type": "stream",
          "name": "stdout",
          "text": [
            "special char @\n",
            "special char $\n"
          ]
        }
      ]
    },
    {
      "cell_type": "code",
      "source": [
        ""
      ],
      "metadata": {
        "id": "EWlzIQNG8kgO"
      },
      "execution_count": null,
      "outputs": []
    },
    {
      "cell_type": "code",
      "source": [
        ""
      ],
      "metadata": {
        "id": "eyt7alk08keC"
      },
      "execution_count": null,
      "outputs": []
    }
  ]
}