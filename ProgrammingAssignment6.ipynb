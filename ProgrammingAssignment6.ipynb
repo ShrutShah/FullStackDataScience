{
  "nbformat": 4,
  "nbformat_minor": 0,
  "metadata": {
    "colab": {
      "name": "ProgrammingAssignment6.ipynb",
      "provenance": [],
      "collapsed_sections": []
    },
    "kernelspec": {
      "name": "python3",
      "display_name": "Python 3"
    },
    "language_info": {
      "name": "python"
    }
  },
  "cells": [
    {
      "cell_type": "code",
      "execution_count": 3,
      "metadata": {
        "id": "VNoFEkGh4jcA"
      },
      "outputs": [],
      "source": [
        "#1.Write a Python Program to Display Fibonacci Sequence Using Recursion?\n",
        "\n",
        "def fibonacci(n):\n",
        "  if n == 1 or n==2:\n",
        "    return 1\n",
        "  else:\n",
        "    return fibonacci(n-1)+fibonacci(n-2)"
      ]
    },
    {
      "cell_type": "code",
      "source": [
        "n = int(input('Enter number of terms'))\n",
        "l=[]\n",
        "for i in range(1,n+1):\n",
        "  l.append(fibonacci(i))\n",
        "\n",
        "print('Fibonacci sequence for {} terms = {} '.format(n,l))\n"
      ],
      "metadata": {
        "colab": {
          "base_uri": "https://localhost:8080/"
        },
        "id": "VGx4Dn13ity_",
        "outputId": "db85cb92-99a0-4eff-fcce-1cffdecb78b3"
      },
      "execution_count": 5,
      "outputs": [
        {
          "output_type": "stream",
          "name": "stdout",
          "text": [
            "Enter number of terms10\n",
            "Fibonacci sequence for 10 terms = [1, 1, 2, 3, 5, 8, 13, 21, 34, 55] \n"
          ]
        }
      ]
    },
    {
      "cell_type": "code",
      "source": [
        "#2.Write a Python Program to Find Factorial of Number Using Recursion?\n",
        "\n",
        "def factorial(n):\n",
        "  if n==1:\n",
        "    return 1\n",
        "\n",
        "  else:\n",
        "    return n * factorial(n-1)"
      ],
      "metadata": {
        "id": "kuQbEPJ4itiD"
      },
      "execution_count": 6,
      "outputs": []
    },
    {
      "cell_type": "code",
      "source": [
        "factorial(5)"
      ],
      "metadata": {
        "colab": {
          "base_uri": "https://localhost:8080/"
        },
        "id": "8xZB9hGe42No",
        "outputId": "f230c59f-959b-4e2a-bd56-0408e88745f3"
      },
      "execution_count": 7,
      "outputs": [
        {
          "output_type": "execute_result",
          "data": {
            "text/plain": [
              "120"
            ]
          },
          "metadata": {},
          "execution_count": 7
        }
      ]
    },
    {
      "cell_type": "code",
      "source": [
        "# 3.Write a Python Program to calculate your Body Mass Index?\n",
        "\n",
        "def bmi_index(w,h):\n",
        "  bmi = w / (h*h)\n",
        "  return bmi\n",
        "weight = float(input('Enter weight '))\n",
        "height = float(input('Enter height '))\n",
        "\n",
        "print('BMI index is',bmi_index(weight,height))\n"
      ],
      "metadata": {
        "colab": {
          "base_uri": "https://localhost:8080/"
        },
        "id": "hPpCXQcPpMiu",
        "outputId": "3b533d53-db1f-428e-8d3a-f440b7f10174"
      },
      "execution_count": 10,
      "outputs": [
        {
          "output_type": "stream",
          "name": "stdout",
          "text": [
            "Enter weight 12\n",
            "Enter height 3.4\n",
            "BMI index is 1.0380622837370244\n"
          ]
        }
      ]
    },
    {
      "cell_type": "code",
      "source": [
        "import numpy as np"
      ],
      "metadata": {
        "id": "E6LqkBTEsAV0"
      },
      "execution_count": 11,
      "outputs": []
    },
    {
      "cell_type": "code",
      "source": [
        "# 4.Write a Python Program to calculate the natural logarithm of any number?\n",
        "\n",
        "def nat_log(x):\n",
        "  return np.log(x)\n",
        "\n",
        "x1 = int(input('Enter x '))\n",
        "l =nat_log(x1)\n",
        "print('Natural log of {} = {}'.format(x1,l))"
      ],
      "metadata": {
        "colab": {
          "base_uri": "https://localhost:8080/"
        },
        "id": "7kLpt0XEq3LQ",
        "outputId": "36207ea6-7a61-4dc3-d958-15da7cdeed87"
      },
      "execution_count": 12,
      "outputs": [
        {
          "output_type": "stream",
          "name": "stdout",
          "text": [
            "Enter x 3\n",
            "Natural log of 3 = 1.0986122886681098\n"
          ]
        }
      ]
    },
    {
      "cell_type": "code",
      "source": [
        "# 5.Write a Python Program for cube sum of first n natural numbers?\n",
        "\n",
        "def sum(n):\n",
        "  s=0\n",
        "  for i in range(1,n+1):\n",
        "    s += i**3\n",
        "  return s\n",
        "\n",
        "x1 = int(input('Enter n '))\n",
        "l = sum(x1)\n",
        "print('Cube sum of first {} natural no.s = {}'.format(x1,l))"
      ],
      "metadata": {
        "colab": {
          "base_uri": "https://localhost:8080/"
        },
        "id": "jIB51rYfsvvC",
        "outputId": "89291c7d-3741-4dcd-9718-e181ae895f29"
      },
      "execution_count": 16,
      "outputs": [
        {
          "output_type": "stream",
          "name": "stdout",
          "text": [
            "Enter n 2\n",
            "Cube sum of first 2 natural no.s = 9\n"
          ]
        }
      ]
    }
  ]
}