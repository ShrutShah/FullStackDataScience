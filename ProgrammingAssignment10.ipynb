{
  "nbformat": 4,
  "nbformat_minor": 0,
  "metadata": {
    "colab": {
      "name": "ProgrammingAssignment10.ipynb",
      "provenance": []
    },
    "kernelspec": {
      "name": "python3",
      "display_name": "Python 3"
    },
    "language_info": {
      "name": "python"
    }
  },
  "cells": [
    {
      "cell_type": "code",
      "execution_count": 2,
      "metadata": {
        "colab": {
          "base_uri": "https://localhost:8080/"
        },
        "id": "lMoIyjd2kfde",
        "outputId": "310d6f77-2515-4a1f-caaf-d148e6de8b97"
      },
      "outputs": [
        {
          "output_type": "stream",
          "name": "stdout",
          "text": [
            "14\n"
          ]
        }
      ],
      "source": [
        "#1.Write a Python program to find sum of elements in list?\n",
        "\n",
        "l = [1,2,3,8]\n",
        "sum=0\n",
        "for i in l:\n",
        "  sum+=i\n",
        "print(sum)"
      ]
    },
    {
      "cell_type": "code",
      "source": [
        "# 2.Write a Python program to  Multiply all numbers in the list?\n",
        "\n",
        "l = [1,2,3,8]\n",
        "mul=1\n",
        "for i in l:\n",
        "  mul*=i\n",
        "print(mul)"
      ],
      "metadata": {
        "colab": {
          "base_uri": "https://localhost:8080/"
        },
        "id": "cqa4Qfcsk4jW",
        "outputId": "30e66c70-d014-444a-fe4d-d2ca3be4277d"
      },
      "execution_count": 3,
      "outputs": [
        {
          "output_type": "stream",
          "name": "stdout",
          "text": [
            "48\n"
          ]
        }
      ]
    },
    {
      "cell_type": "code",
      "source": [
        "#3.Write a Python program to find smallest number in a list?\n",
        "\n",
        "l = [8,2,9,3,7,1]\n",
        "min=999999\n",
        "for i in range(len(l)):\n",
        "  if l[i] < min:\n",
        "    min=l[i]\n",
        "print(min)"
      ],
      "metadata": {
        "colab": {
          "base_uri": "https://localhost:8080/"
        },
        "id": "9VoBJk0blYkq",
        "outputId": "4dbbeafc-1c30-4a5b-b9bd-cfa16bbab6d4"
      },
      "execution_count": 8,
      "outputs": [
        {
          "output_type": "stream",
          "name": "stdout",
          "text": [
            "1\n"
          ]
        }
      ]
    },
    {
      "cell_type": "code",
      "source": [
        "#4.Write a Python program to find largest number in a list?\n",
        "\n",
        "l = [8,2,9,3,7,1]\n",
        "max=0\n",
        "for i in range(len(l)):\n",
        "  if l[i] > max :\n",
        "    max=l[i]\n",
        "print(max)"
      ],
      "metadata": {
        "colab": {
          "base_uri": "https://localhost:8080/"
        },
        "id": "_HfaDotxl2tV",
        "outputId": "7fe0c8e1-5971-46f7-dca2-87093baefe23"
      },
      "execution_count": 9,
      "outputs": [
        {
          "output_type": "stream",
          "name": "stdout",
          "text": [
            "9\n"
          ]
        }
      ]
    },
    {
      "cell_type": "code",
      "source": [
        "#5.Write a Python program to find second largest number in a list?\n",
        "\n",
        "l = [8,2,9,3,7,1]\n",
        "l1 = l.sort()\n",
        "secmax = l[len(l)-2]\n",
        "print(secmax)"
      ],
      "metadata": {
        "colab": {
          "base_uri": "https://localhost:8080/"
        },
        "id": "Rao9h81kmYUM",
        "outputId": "c4225fd2-281a-4d4b-c373-09b769561676"
      },
      "execution_count": 11,
      "outputs": [
        {
          "output_type": "stream",
          "name": "stdout",
          "text": [
            "8\n"
          ]
        }
      ]
    },
    {
      "cell_type": "code",
      "source": [
        "#6.Write a Python program to find N largest elements from a list?\n",
        "\n",
        "l = [8,2,9,3,7,1] \n",
        "def nlarge(n):\n",
        "  l1=l.sort()\n",
        "  for i in range(len(l)-n,len(l)):\n",
        "    print(l[i],end=' ')\n",
        "\n",
        "n = int(input('Enter n '))\n",
        "print('{} largest element from list are'.format(n),end=' ')\n",
        "nlarge(n)"
      ],
      "metadata": {
        "colab": {
          "base_uri": "https://localhost:8080/"
        },
        "id": "ay2As2zWoB53",
        "outputId": "86319d8f-99a5-459f-8520-8c6afe04de63"
      },
      "execution_count": 18,
      "outputs": [
        {
          "output_type": "stream",
          "name": "stdout",
          "text": [
            "Enter n 3\n",
            "3 largest element from list are 7 8 9 "
          ]
        }
      ]
    },
    {
      "cell_type": "code",
      "source": [
        "#7.Write a Python program to print even numbers in a list?\n",
        "\n",
        "l = [8,2,9,3,7,1] \n",
        "for i in range(len(l)):\n",
        "  if l[i] % 2 == 0:\n",
        "    print(l[i],end=' ')\n"
      ],
      "metadata": {
        "colab": {
          "base_uri": "https://localhost:8080/"
        },
        "id": "p8B2cZ-Gqr_7",
        "outputId": "4412fffd-0892-4e54-f866-53aafd178863"
      },
      "execution_count": 20,
      "outputs": [
        {
          "output_type": "stream",
          "name": "stdout",
          "text": [
            "8 2 "
          ]
        }
      ]
    },
    {
      "cell_type": "code",
      "source": [
        "#8.Write a Python program to print odd numbers in a List?\n",
        "\n",
        "l = [8,2,9,3,7,1] \n",
        "for i in range(len(l)):\n",
        "  if l[i] % 2 == 0:\n",
        "    continue\n",
        "  else:\n",
        "    print(l[i],end=' ')\n"
      ],
      "metadata": {
        "colab": {
          "base_uri": "https://localhost:8080/"
        },
        "id": "h4HgcQ_vrwuR",
        "outputId": "485f877d-b739-4e4e-bdaf-a2d7a5fe0f3e"
      },
      "execution_count": 21,
      "outputs": [
        {
          "output_type": "stream",
          "name": "stdout",
          "text": [
            "9 3 7 1 "
          ]
        }
      ]
    },
    {
      "cell_type": "code",
      "source": [
        "#9.Write a Python program to Remove empty List from List?\n",
        "\n",
        "l = [[],[1,2,3],[],'string',2]\n",
        "print(l)\n",
        "for i in l:\n",
        "  if type(i) == list:\n",
        "    if len(i) == 0:   \n",
        "      l.remove(i)\n",
        " "
      ],
      "metadata": {
        "colab": {
          "base_uri": "https://localhost:8080/"
        },
        "id": "hgXQOZT0sAxw",
        "outputId": "8304ea09-178d-4df0-9cec-ea452eba9ab7"
      },
      "execution_count": 37,
      "outputs": [
        {
          "output_type": "stream",
          "name": "stdout",
          "text": [
            "[[], [1, 2, 3], [], 'string', 2]\n"
          ]
        }
      ]
    },
    {
      "cell_type": "code",
      "source": [
        "l"
      ],
      "metadata": {
        "colab": {
          "base_uri": "https://localhost:8080/"
        },
        "id": "VU5RndZAtFnb",
        "outputId": "bfa48695-5ad6-43cf-db03-e1e461ca4a02"
      },
      "execution_count": 36,
      "outputs": [
        {
          "output_type": "execute_result",
          "data": {
            "text/plain": [
              "[[1, 2, 3], 'string', 2]"
            ]
          },
          "metadata": {},
          "execution_count": 36
        }
      ]
    },
    {
      "cell_type": "code",
      "source": [
        "#10.Write a Python program to Cloning or Copying a list?\n",
        "\n",
        "l = [8,2,9,3,7,1] \n",
        "l1=l"
      ],
      "metadata": {
        "id": "pREjvCCvtuEr"
      },
      "execution_count": 38,
      "outputs": []
    },
    {
      "cell_type": "code",
      "source": [
        "l1"
      ],
      "metadata": {
        "colab": {
          "base_uri": "https://localhost:8080/"
        },
        "id": "ydUxJApot5ii",
        "outputId": "f3c065c0-8328-41f3-fd37-6adf75296da8"
      },
      "execution_count": 39,
      "outputs": [
        {
          "output_type": "execute_result",
          "data": {
            "text/plain": [
              "[8, 2, 9, 3, 7, 1]"
            ]
          },
          "metadata": {},
          "execution_count": 39
        }
      ]
    },
    {
      "cell_type": "code",
      "source": [
        "#11.Write a Python program to Count occurrences of an element in a list?\n",
        "l=[8,1,2,9,1,2,1,7,1]\n",
        "c=int(input('Enter number whose occurance we have to calculate '))\n",
        "flag = 0 \n",
        "for i in l:\n",
        "  if i == c:\n",
        "    flag+=1\n",
        "print('occurance of {} is {}'.format(c,flag))"
      ],
      "metadata": {
        "colab": {
          "base_uri": "https://localhost:8080/"
        },
        "id": "QS8DjDNQt7Xn",
        "outputId": "da5fed9b-10f1-4eca-8d1e-2a14340a564e"
      },
      "execution_count": 42,
      "outputs": [
        {
          "output_type": "stream",
          "name": "stdout",
          "text": [
            "Enter number whose occurance we have to calculate 1\n",
            "occurance of 1 is 4\n"
          ]
        }
      ]
    }
  ]
}