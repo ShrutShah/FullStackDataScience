{
  "nbformat": 4,
  "nbformat_minor": 0,
  "metadata": {
    "colab": {
      "name": "ProgrammingAssignment12.ipynb",
      "provenance": []
    },
    "kernelspec": {
      "name": "python3",
      "display_name": "Python 3"
    },
    "language_info": {
      "name": "python"
    }
  },
  "cells": [
    {
      "cell_type": "code",
      "execution_count": 15,
      "metadata": {
        "id": "tx3nGuG2Mnrj"
      },
      "outputs": [],
      "source": [
        "#1.Write a Python program to Extract Unique values dictionary values?\n",
        "\n",
        "d = {1:'a',2:'b',3:'c',4:'d',5:'e',6:'a',7:'b'}\n",
        "a=[]\n",
        "for i in d:\n",
        "  k = d[i]\n",
        "  c=0\n",
        "  for j in d:\n",
        "    if d[j]==k:\n",
        "      c+=1\n",
        "  if c==1:\n",
        "    a.append(k)\n",
        "\n",
        "\n"
      ]
    },
    {
      "cell_type": "code",
      "source": [
        "print('unique values',a)"
      ],
      "metadata": {
        "colab": {
          "base_uri": "https://localhost:8080/"
        },
        "id": "234UKHvEM5KH",
        "outputId": "edfa0e99-53b8-4a0a-8d40-d9b87ee54cad"
      },
      "execution_count": 17,
      "outputs": [
        {
          "output_type": "stream",
          "name": "stdout",
          "text": [
            "unique values ['c', 'd', 'e']\n"
          ]
        }
      ]
    },
    {
      "cell_type": "code",
      "source": [
        "#2.Write a Python program to find the sum of all items in a dictionary?\n",
        "\n",
        "d = {'a':1,'b':2,'c':3,'d':4,'e':5,'f':6}\n",
        "sum=0\n",
        "for i in d:\n",
        "  sum+=d[i]\n",
        "print('sum:',sum)"
      ],
      "metadata": {
        "colab": {
          "base_uri": "https://localhost:8080/"
        },
        "id": "akQcugZ9M5ME",
        "outputId": "23152865-8045-4d93-b717-eb989aa2f694"
      },
      "execution_count": 18,
      "outputs": [
        {
          "output_type": "stream",
          "name": "stdout",
          "text": [
            "sum: 21\n"
          ]
        }
      ]
    },
    {
      "cell_type": "code",
      "source": [
        "#3.Write a Python program to Merging two Dictionaries?\n",
        "\n",
        "d = {'a':1,'b':2,'c':3,'d':4,'e':5,'f':6}\n",
        "d1 = {'g':3,'h':9,'c':4}\n",
        "\n",
        "for i in d1:\n",
        "  d[i]=d1[i] "
      ],
      "metadata": {
        "id": "hn7xuxUGXQpn"
      },
      "execution_count": 20,
      "outputs": []
    },
    {
      "cell_type": "code",
      "source": [
        "print('Merge ',d)"
      ],
      "metadata": {
        "colab": {
          "base_uri": "https://localhost:8080/"
        },
        "id": "m70oJW5GM5Pt",
        "outputId": "2c8db803-19f4-4125-d3a0-5de31fb00a9d"
      },
      "execution_count": 23,
      "outputs": [
        {
          "output_type": "stream",
          "name": "stdout",
          "text": [
            "Merge  {'a': 1, 'b': 2, 'c': 4, 'd': 4, 'e': 5, 'f': 6, 'g': 3, 'h': 9}\n"
          ]
        }
      ]
    },
    {
      "cell_type": "code",
      "source": [
        ""
      ],
      "metadata": {
        "id": "SaUoXSAzM5R2"
      },
      "execution_count": null,
      "outputs": []
    },
    {
      "cell_type": "code",
      "source": [
        "#4.Write a Python program to convert key-values list to flat dictionary?\n",
        "\n",
        "\n",
        "d = {'key': [1, 2, 3, 4, 5, 6], 'value': ['Jan', 'Feb', 'March', 'Apr', 'May', 'June']}\n",
        "d1= {}\n",
        "for i in range(len(d['key'])):\n",
        "  d1[d['key'][i]]=d['value'][i]"
      ],
      "metadata": {
        "id": "83twO5B5M2jB"
      },
      "execution_count": 30,
      "outputs": []
    },
    {
      "cell_type": "code",
      "source": [
        "d1"
      ],
      "metadata": {
        "colab": {
          "base_uri": "https://localhost:8080/"
        },
        "id": "9fLMzFZDM2lj",
        "outputId": "36185afa-2ff1-4cbf-d76c-ac3eaaf45603"
      },
      "execution_count": 31,
      "outputs": [
        {
          "output_type": "execute_result",
          "data": {
            "text/plain": [
              "{1: 'Jan', 2: 'Feb', 3: 'March', 4: 'Apr', 5: 'May', 6: 'June'}"
            ]
          },
          "metadata": {},
          "execution_count": 31
        }
      ]
    },
    {
      "cell_type": "code",
      "source": [
        "#5.Write a Python program to insertion at the beginning in OrderedDict?\n"
      ],
      "metadata": {
        "id": "q21yDJsAM2nm"
      },
      "execution_count": null,
      "outputs": []
    },
    {
      "cell_type": "code",
      "source": [
        "from collections import OrderedDict as od"
      ],
      "metadata": {
        "id": "8FB6e928fBoU"
      },
      "execution_count": 58,
      "outputs": []
    },
    {
      "cell_type": "code",
      "source": [
        "d1 = od([('a',1),('b',2),('c',3)])"
      ],
      "metadata": {
        "id": "YP-D756FM21s"
      },
      "execution_count": 61,
      "outputs": []
    },
    {
      "cell_type": "code",
      "source": [
        "d1.update({'d':4})"
      ],
      "metadata": {
        "id": "tloqJBjBM25i"
      },
      "execution_count": 62,
      "outputs": []
    },
    {
      "cell_type": "code",
      "source": [
        "d1.move_to_end('d',last= False)"
      ],
      "metadata": {
        "id": "geiXSF_3f71d"
      },
      "execution_count": 67,
      "outputs": []
    },
    {
      "cell_type": "code",
      "source": [
        "d1"
      ],
      "metadata": {
        "colab": {
          "base_uri": "https://localhost:8080/"
        },
        "id": "D20M907wgfpT",
        "outputId": "3bda219a-3109-4bce-9247-55839e9b5463"
      },
      "execution_count": 68,
      "outputs": [
        {
          "output_type": "execute_result",
          "data": {
            "text/plain": [
              "OrderedDict([('d', 4), ('a', 1), ('b', 2), ('c', 3)])"
            ]
          },
          "metadata": {},
          "execution_count": 68
        }
      ]
    },
    {
      "cell_type": "code",
      "source": [
        "#6.Write a Python program to check order of character in string using OrderedDict()?\n",
        "from collections import OrderedDict \n",
        "  \n",
        "k = 'asqzxvwg'\n",
        "p = 'asvg'\n",
        "\n",
        "d = OrderedDict.fromkeys(k)\n",
        "f=0\n",
        "for i in d.keys():\n",
        "  if i == p[f]:\n",
        "    f+=1\n",
        "if f == len(p):\n",
        "  print('yes')\n",
        "else:\n",
        "  print('no')"
      ],
      "metadata": {
        "colab": {
          "base_uri": "https://localhost:8080/"
        },
        "id": "4z-3qJpxgo5P",
        "outputId": "72115ef7-2732-4d65-cdd1-0d9f7a1870a6"
      },
      "execution_count": 119,
      "outputs": [
        {
          "output_type": "stream",
          "name": "stdout",
          "text": [
            "yes\n"
          ]
        }
      ]
    },
    {
      "cell_type": "code",
      "source": [
        "#7.Write a Python program to sort Python Dictionaries by Key or Value?\n",
        "#sort by key"
      ],
      "metadata": {
        "id": "yjz3JY4RhnHI"
      },
      "execution_count": null,
      "outputs": []
    },
    {
      "cell_type": "code",
      "source": [
        "d = {'a':1,'c':3,'e':5,'f':6,'b':2,'d':4,}\n",
        "l=list(d.keys())\n",
        "d1 = {}"
      ],
      "metadata": {
        "id": "vUW90c8yh0_I"
      },
      "execution_count": 78,
      "outputs": []
    },
    {
      "cell_type": "code",
      "source": [
        "l.sort()"
      ],
      "metadata": {
        "id": "h72vW9ukh-KS"
      },
      "execution_count": 79,
      "outputs": []
    },
    {
      "cell_type": "code",
      "source": [
        "for i in l:\n",
        "  d1[i]=d[i]"
      ],
      "metadata": {
        "id": "HVEYH2L-iJBr"
      },
      "execution_count": 81,
      "outputs": []
    },
    {
      "cell_type": "code",
      "source": [
        "d1"
      ],
      "metadata": {
        "colab": {
          "base_uri": "https://localhost:8080/"
        },
        "id": "xSk1ZrdNio9e",
        "outputId": "d7788172-a8db-4879-c579-61b0227c8678"
      },
      "execution_count": 82,
      "outputs": [
        {
          "output_type": "execute_result",
          "data": {
            "text/plain": [
              "{'a': 1, 'b': 2, 'c': 3, 'd': 4, 'e': 5, 'f': 6}"
            ]
          },
          "metadata": {},
          "execution_count": 82
        }
      ]
    }
  ]
}