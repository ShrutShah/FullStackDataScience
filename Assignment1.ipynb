{
  "nbformat": 4,
  "nbformat_minor": 0,
  "metadata": {
    "colab": {
      "name": "Assignment1.ipynb",
      "provenance": []
    },
    "kernelspec": {
      "name": "python3",
      "display_name": "Python 3"
    },
    "language_info": {
      "name": "python"
    }
  },
  "cells": [
    {
      "cell_type": "markdown",
      "source": [
        "1. In the below elements which of them are values or an expression? eg:- values can be integer or string and expressions will be mathematical operators.\n",
        "\n",
        "value: 'hello', -87.8, 6                             \n",
        "expression: *,  -,  /,  +  \n"
      ],
      "metadata": {
        "id": "9RkvbGV9zs_r"
      }
    },
    {
      "cell_type": "markdown",
      "source": [
        "2. What is the difference between string and variable?\n",
        "\n",
        "String is a datatype which stores series of characters.                                      \n",
        "variable can hold any type of data like integer, float, string, boolean. "
      ],
      "metadata": {
        "id": "WUuqB7daztCv"
      }
    },
    {
      "cell_type": "markdown",
      "source": [
        "3. Describe three different data types.\n",
        "\n",
        "int : in this data type integer value is stored.\n",
        "\n",
        "str: in this data type series of characters is stored.\n",
        "\n",
        "boolean: it holds true/false or 0/1 values.\n",
        " "
      ],
      "metadata": {
        "id": "c8rZWcLHztQ8"
      }
    },
    {
      "cell_type": "markdown",
      "source": [
        "4. What is an expression made up of? What do all expressions do?\n",
        "\n",
        "Expression is a combination of operators(+,-,/,* ..etc) and operands(a,b,10,-10 .. etc)\n",
        "\n",
        "The expression has a value which is used in further part of the program. The evaluation of an expression takes place according to the order of precedence.\n",
        "\n"
      ],
      "metadata": {
        "id": "AIBekIHkztTI"
      }
    },
    {
      "cell_type": "markdown",
      "source": [
        "5. This assignment statements, like spam = 10. What is the difference between an expression and a statement?\n",
        "\n",
        "expression is simply a combination of operators and operands like a + 10 while assignment statement is assigning a value to variable. Here spam has got value 10. "
      ],
      "metadata": {
        "id": "ShIlnuvpztW3"
      }
    },
    {
      "cell_type": "markdown",
      "source": [
        "6. After running the following code, what does the variable bacon contain?\n",
        "bacon = 22\n",
        "bacon + 1\n",
        "\n",
        "bacon will contain value 22 "
      ],
      "metadata": {
        "id": "EMAzdLgH4kHV"
      }
    },
    {
      "cell_type": "markdown",
      "source": [
        "7. What should the values of the following two terms be?\n",
        "\n",
        "\n",
        "'spam' + 'spamspam' = spamspamspam\n",
        "\n",
        "\n",
        "'spam' * 3 = spamspamspam\n",
        "\n"
      ],
      "metadata": {
        "id": "eh87JX4D4mgN"
      }
    },
    {
      "cell_type": "markdown",
      "source": [
        "8. Why is eggs a valid variable name while 100 is invalid?\n",
        "\n",
        "According to naming convention of variables 1st character of variable should be an aplhabetic character or underscore and not any numeric value. Therefore, eggs starting with e(aplhabet) is valid and 100 starting with 1 is invalid."
      ],
      "metadata": {
        "id": "_UgrfoTE4mjJ"
      }
    },
    {
      "cell_type": "markdown",
      "source": [
        "9. What three functions can be used to get the integer, floating-point number, or string version of a value?\n",
        "\n",
        "we can type cast by using int(), float() , str() resp. to get the desired version of value. "
      ],
      "metadata": {
        "id": "QvMJm2B04qGZ"
      }
    },
    {
      "cell_type": "markdown",
      "source": [
        "10. Why does this expression cause an error? How can you fix it?\n",
        "'I have eaten ' + 99 + ' burritos.'\n",
        "\n",
        "because concatination operation can be carried when it is between string + string. Here it is between string (I have eaten) and integer(99)\n",
        "\n",
        "To solve the issue we can simply type cast integer value 99 by using str(). After that it will work fine.\n",
        "\n"
      ],
      "metadata": {
        "id": "lb94g_Le4qER"
      }
    }
  ]
}