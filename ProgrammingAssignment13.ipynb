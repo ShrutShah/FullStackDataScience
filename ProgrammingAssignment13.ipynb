{
  "nbformat": 4,
  "nbformat_minor": 0,
  "metadata": {
    "colab": {
      "name": "ProgrammingAssignment13.ipynb",
      "provenance": []
    },
    "kernelspec": {
      "name": "python3",
      "display_name": "Python 3"
    },
    "language_info": {
      "name": "python"
    }
  },
  "cells": [
    {
      "cell_type": "code",
      "execution_count": null,
      "metadata": {
        "id": "yuFYWsFLG15H"
      },
      "outputs": [],
      "source": [
        "'''\n",
        "Write a program that calculates and prints the value according to the given formula:\n",
        "\n",
        "Q = Square root of [(2 * C * D)/H]\n",
        "Following are the fixed values of C and H:\n",
        "C is 50. H is 30.\n",
        "D is the variable whose values should be input to your program in a comma-separated sequence.\n",
        "\n",
        "Example\n",
        "Let us assume the following comma separated input sequence is given to the program:\n",
        "100,150,180\n",
        "\n",
        "The output of the program should be:\n",
        "18,22,24\n",
        "\n",
        "'''"
      ]
    },
    {
      "cell_type": "code",
      "source": [
        "import math"
      ],
      "metadata": {
        "id": "KecVSBPHIYCQ"
      },
      "execution_count": 7,
      "outputs": []
    },
    {
      "cell_type": "code",
      "source": [
        "C=50 \n",
        "H=30"
      ],
      "metadata": {
        "id": "QZzQ2II3IfJb"
      },
      "execution_count": 8,
      "outputs": []
    },
    {
      "cell_type": "code",
      "source": [
        "s = input('Enter input ')\n",
        "l= s.split(sep=',')\n",
        "a = []\n"
      ],
      "metadata": {
        "colab": {
          "base_uri": "https://localhost:8080/"
        },
        "id": "lLKQG41VG8qi",
        "outputId": "2037dff0-969a-4c32-de5c-a1b271175eff"
      },
      "execution_count": 14,
      "outputs": [
        {
          "name": "stdout",
          "output_type": "stream",
          "text": [
            "Enter input 100,150,180\n"
          ]
        }
      ]
    },
    {
      "cell_type": "code",
      "source": [
        "for i in range(len(l)):\n",
        "  D = int(l[i])\n",
        "  Q = math.sqrt((2 * C * D)/H)\n",
        "  r= int(Q)\n",
        "  a.append(r)"
      ],
      "metadata": {
        "id": "JQkLseHBG8sX"
      },
      "execution_count": 15,
      "outputs": []
    },
    {
      "cell_type": "code",
      "source": [
        "a"
      ],
      "metadata": {
        "colab": {
          "base_uri": "https://localhost:8080/"
        },
        "id": "H9w3wAsgG8wb",
        "outputId": "901ce12e-769f-492c-ff5b-8b741b81a72e"
      },
      "execution_count": 16,
      "outputs": [
        {
          "output_type": "execute_result",
          "data": {
            "text/plain": [
              "[18, 22, 24]"
            ]
          },
          "metadata": {},
          "execution_count": 16
        }
      ]
    },
    {
      "cell_type": "code",
      "source": [
        "'''\n",
        "Question 2:\n",
        "Write a program which takes 2 digits, X,Y as input and generates a 2-dimensional array. \n",
        "The element value in the i-th row and j-th column of the array should be i*j.\n",
        "\n",
        "Note: i=0,1.., X-1; j=0,1,¡Y-1.\n",
        "\n",
        "Example\n",
        "\n",
        "Suppose the following inputs are given to the program:\n",
        "\n",
        "3,5\n",
        "\n",
        "Then, the output of the program should be:\n",
        "\n",
        "[[0, 0, 0, 0, 0], [0, 1, 2, 3, 4], [0, 2, 4, 6, 8]] \n",
        "'''\n"
      ],
      "metadata": {
        "id": "B4-SMPv3G8yc"
      },
      "execution_count": null,
      "outputs": []
    },
    {
      "cell_type": "code",
      "source": [
        "s = input('Enter Row,Column')\n",
        "l=s.split(',')\n",
        "l\n"
      ],
      "metadata": {
        "colab": {
          "base_uri": "https://localhost:8080/"
        },
        "id": "5qDEbDUAG81j",
        "outputId": "dd969d01-834f-4d06-a4a9-4e3000ab7c09"
      },
      "execution_count": 53,
      "outputs": [
        {
          "name": "stdout",
          "output_type": "stream",
          "text": [
            "Enter Row,Column3,5\n"
          ]
        },
        {
          "output_type": "execute_result",
          "data": {
            "text/plain": [
              "['3', '5']"
            ]
          },
          "metadata": {},
          "execution_count": 53
        }
      ]
    },
    {
      "cell_type": "code",
      "source": [
        "r=int(l[0])\n",
        "c=int(l[1])"
      ],
      "metadata": {
        "id": "sI5QZTwkG83U"
      },
      "execution_count": 54,
      "outputs": []
    },
    {
      "cell_type": "code",
      "source": [
        "arr=[]\n",
        "for i in range(r):\n",
        "    col=[]\n",
        "    for j in range(c):\n",
        "      col.append(0)\n",
        "    arr.append(col)\n",
        "    \n"
      ],
      "metadata": {
        "id": "7JJ6Fji2PuT0"
      },
      "execution_count": 104,
      "outputs": []
    },
    {
      "cell_type": "code",
      "source": [
        "arr"
      ],
      "metadata": {
        "colab": {
          "base_uri": "https://localhost:8080/"
        },
        "id": "SIevDjIPQ7vh",
        "outputId": "e32cf5cd-c508-4375-c2bf-3fefd30ab475"
      },
      "execution_count": 105,
      "outputs": [
        {
          "output_type": "execute_result",
          "data": {
            "text/plain": [
              "[[0, 0, 0, 0, 0], [0, 0, 0, 0, 0], [0, 0, 0, 0, 0]]"
            ]
          },
          "metadata": {},
          "execution_count": 105
        }
      ]
    },
    {
      "cell_type": "code",
      "source": [
        "for i in range(r): \n",
        "  for j in range(c):\n",
        "    arr[i][j]=i*j\n",
        "     "
      ],
      "metadata": {
        "id": "M1ju9Wv4G87L"
      },
      "execution_count": 110,
      "outputs": []
    },
    {
      "cell_type": "code",
      "source": [
        "arr"
      ],
      "metadata": {
        "colab": {
          "base_uri": "https://localhost:8080/"
        },
        "id": "DFps4sAxG9QJ",
        "outputId": "2a5fd7b1-2971-4382-9586-3e3e39798eea"
      },
      "execution_count": 111,
      "outputs": [
        {
          "output_type": "execute_result",
          "data": {
            "text/plain": [
              "[[0, 0, 0, 0, 0], [0, 1, 2, 3, 4], [0, 2, 4, 6, 8]]"
            ]
          },
          "metadata": {},
          "execution_count": 111
        }
      ]
    },
    {
      "cell_type": "code",
      "source": [
        "'''\n",
        "Write a program that accepts a comma separated sequence of words as input and \n",
        "prints the words in a comma-separated sequence after sorting them alphabetically.\n",
        "\n",
        "Suppose the following input is supplied to the program:\n",
        "\n",
        "without,hello,bag,world\n",
        "\n",
        "Then, the output should be:\n",
        "\n",
        "bag,hello,without,world\n",
        "\n",
        "'''"
      ],
      "metadata": {
        "id": "Ftbxyz1Yg_L6"
      },
      "execution_count": null,
      "outputs": []
    },
    {
      "cell_type": "code",
      "source": [
        "s = input('Enter ')\n",
        "l = s.split(',')\n",
        "l.sort()\n"
      ],
      "metadata": {
        "colab": {
          "base_uri": "https://localhost:8080/"
        },
        "id": "CWzsbsmZhdOE",
        "outputId": "d282b1eb-7273-47ef-bce4-1a6fb277757c"
      },
      "execution_count": 112,
      "outputs": [
        {
          "name": "stdout",
          "output_type": "stream",
          "text": [
            "Enter without,hello,bag,world\n"
          ]
        }
      ]
    },
    {
      "cell_type": "code",
      "source": [
        "l"
      ],
      "metadata": {
        "colab": {
          "base_uri": "https://localhost:8080/"
        },
        "id": "tkquXWxCiVc6",
        "outputId": "9de56a1d-19c0-4795-b40a-93a271e39c6d"
      },
      "execution_count": 113,
      "outputs": [
        {
          "output_type": "execute_result",
          "data": {
            "text/plain": [
              "['bag', 'hello', 'without', 'world']"
            ]
          },
          "metadata": {},
          "execution_count": 113
        }
      ]
    },
    {
      "cell_type": "code",
      "source": [
        "for i in range(len(l)):\n",
        "  print(l[i],end=',')"
      ],
      "metadata": {
        "colab": {
          "base_uri": "https://localhost:8080/"
        },
        "id": "-Puehh5qiYyT",
        "outputId": "90910bca-7e55-4cda-cbcd-dadf068ac799"
      },
      "execution_count": 115,
      "outputs": [
        {
          "output_type": "stream",
          "name": "stdout",
          "text": [
            "bag,hello,without,world,"
          ]
        }
      ]
    },
    {
      "cell_type": "code",
      "source": [
        "'''\n",
        "Write a program that accepts a sequence of whitespace separated words as input and prints the words after removing all duplicate words and sorting them alphanumerically.\n",
        "\n",
        "Suppose the following input is supplied to the program:\n",
        "\n",
        "hello world and practice makes perfect and hello world again\n",
        "\n",
        "Then, the output should be:\n",
        "\n",
        "again and hello makes perfect practice world\n",
        "\n",
        "'''"
      ],
      "metadata": {
        "id": "rzjs-QjJjGJz"
      },
      "execution_count": null,
      "outputs": []
    },
    {
      "cell_type": "code",
      "source": [
        "s = input('Enter ')\n",
        "l = s.split(' ')\n",
        "z=set(l)\n"
      ],
      "metadata": {
        "colab": {
          "base_uri": "https://localhost:8080/"
        },
        "id": "29qcXSp3jSfR",
        "outputId": "4bfa5fcc-8ec0-4de7-bf35-7bcde2b13d3f"
      },
      "execution_count": 122,
      "outputs": [
        {
          "name": "stdout",
          "output_type": "stream",
          "text": [
            "Enter hello world and practice makes perfect and hello world again\n"
          ]
        }
      ]
    },
    {
      "cell_type": "code",
      "source": [
        "z"
      ],
      "metadata": {
        "colab": {
          "base_uri": "https://localhost:8080/"
        },
        "id": "4kvIz17ojslC",
        "outputId": "2453aff7-649b-4269-93ab-d6dd38ba547c"
      },
      "execution_count": 124,
      "outputs": [
        {
          "output_type": "execute_result",
          "data": {
            "text/plain": [
              "{'again', 'and', 'hello', 'makes', 'perfect', 'practice', 'world'}"
            ]
          },
          "metadata": {},
          "execution_count": 124
        }
      ]
    },
    {
      "cell_type": "code",
      "source": [
        "z=list(z)"
      ],
      "metadata": {
        "id": "bP-FNaXSjwjb"
      },
      "execution_count": 125,
      "outputs": []
    },
    {
      "cell_type": "code",
      "source": [
        "z.sort()"
      ],
      "metadata": {
        "id": "g5N3kNU7kbw5"
      },
      "execution_count": 126,
      "outputs": []
    },
    {
      "cell_type": "code",
      "source": [
        "for i in z:\n",
        "  print(i,end=' ')"
      ],
      "metadata": {
        "colab": {
          "base_uri": "https://localhost:8080/"
        },
        "id": "govPj40nj2fo",
        "outputId": "b05c83f8-da2e-4ef1-b86a-f7fb8f9a90d4"
      },
      "execution_count": 127,
      "outputs": [
        {
          "output_type": "stream",
          "name": "stdout",
          "text": [
            "again and hello makes perfect practice world "
          ]
        }
      ]
    },
    {
      "cell_type": "code",
      "source": [
        "'''\n",
        "Write a program that accepts a sentence and calculate the number of letters and digits.\n",
        "\n",
        "Suppose the following input is supplied to the program:\n",
        "\n",
        "hello world! 123\n",
        "\n",
        "Then, the output should be:\n",
        "\n",
        "LETTERS 10\n",
        "\n",
        "DIGITS 3\n",
        "\n",
        "\n",
        "'''"
      ],
      "metadata": {
        "id": "nhHuhVURkf93"
      },
      "execution_count": null,
      "outputs": []
    },
    {
      "cell_type": "code",
      "source": [
        "s = input('Enter ')"
      ],
      "metadata": {
        "colab": {
          "base_uri": "https://localhost:8080/"
        },
        "id": "4fdSqz23lFvq",
        "outputId": "ebca13a4-e546-408e-85d0-486ed148989c"
      },
      "execution_count": 128,
      "outputs": [
        {
          "name": "stdout",
          "output_type": "stream",
          "text": [
            "Enter hello world! 123\n"
          ]
        }
      ]
    },
    {
      "cell_type": "code",
      "source": [
        "di=0\n",
        "le=0\n",
        "for i in range(len(s)):\n",
        "  if s[i].isdigit() == True:\n",
        "    di+=1\n",
        "  if s[i].isalpha() == True:\n",
        "    le+=1"
      ],
      "metadata": {
        "id": "c9Mnbr-mlNQo"
      },
      "execution_count": 129,
      "outputs": []
    },
    {
      "cell_type": "code",
      "source": [
        "print('Digit',di)\n",
        "print('Letter',le)"
      ],
      "metadata": {
        "colab": {
          "base_uri": "https://localhost:8080/"
        },
        "id": "XfLEwzdll5pW",
        "outputId": "ae5c5521-4675-4707-b33c-4dd991733401"
      },
      "execution_count": 130,
      "outputs": [
        {
          "output_type": "stream",
          "name": "stdout",
          "text": [
            "Digit 3\n",
            "Letter 10\n"
          ]
        }
      ]
    },
    {
      "cell_type": "code",
      "source": [
        "'''\n",
        "A website requires the users to input username and password to register. Write a program to check the validity of password input by users.\n",
        "\n",
        "Following are the criteria for checking the password:\n",
        "\n",
        "1. At least 1 letter between [a-z]\n",
        "\n",
        "2. At least 1 number between [0-9]\n",
        "\n",
        "1. At least 1 letter between [A-Z]\n",
        "\n",
        "3. At least 1 character from [$#@]\n",
        "\n",
        "4. Minimum length of transaction password: 6\n",
        "\n",
        "\n",
        "'''"
      ],
      "metadata": {
        "id": "DqbyCa71mEn3"
      },
      "execution_count": null,
      "outputs": []
    },
    {
      "cell_type": "code",
      "source": [
        "s = input('Enter password ')\n",
        "l=s.split(',')\n",
        "f=[]\n",
        "for j in l:\n",
        "  sma = 0\n",
        "  cap = 0\n",
        "  digi= 0\n",
        "  sp = ['$','#','@']\n",
        "  spe= 0\n",
        "  for i in j:\n",
        "    if i.isdigit():\n",
        "      digi+=1\n",
        "    elif i.islower():\n",
        "      sma+=1\n",
        "    elif i.isupper():\n",
        "      cap+=1\n",
        "    elif i in sp:\n",
        "      spe+=1\n",
        "\n",
        "  if sma > 0 and cap > 0 and digi > 0 and spe > 0 and len(j)>=6 and len(j)<=12 :\n",
        "    f.append(j)"
      ],
      "metadata": {
        "colab": {
          "base_uri": "https://localhost:8080/"
        },
        "id": "vuhAlDqnpW3W",
        "outputId": "e82e7653-267c-454b-b731-3a1963294186"
      },
      "execution_count": 136,
      "outputs": [
        {
          "name": "stdout",
          "output_type": "stream",
          "text": [
            "Enter password ABd1234@1,a F1#,2w3E*,2We3345\n"
          ]
        }
      ]
    },
    {
      "cell_type": "code",
      "source": [
        "f"
      ],
      "metadata": {
        "colab": {
          "base_uri": "https://localhost:8080/"
        },
        "id": "HZEU6bK-pfUN",
        "outputId": "d87892db-59f2-401d-e998-d44e07358f59"
      },
      "execution_count": 137,
      "outputs": [
        {
          "output_type": "execute_result",
          "data": {
            "text/plain": [
              "['ABd1234@1']"
            ]
          },
          "metadata": {},
          "execution_count": 137
        }
      ]
    },
    {
      "cell_type": "code",
      "source": [
        ""
      ],
      "metadata": {
        "id": "8vHTbSVYr3Yj"
      },
      "execution_count": null,
      "outputs": []
    }
  ]
}