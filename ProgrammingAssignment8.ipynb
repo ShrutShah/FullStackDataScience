{
  "nbformat": 4,
  "nbformat_minor": 0,
  "metadata": {
    "colab": {
      "name": "ProgrammingAssignment8.ipynb",
      "provenance": [],
      "collapsed_sections": []
    },
    "kernelspec": {
      "name": "python3",
      "display_name": "Python 3"
    },
    "language_info": {
      "name": "python"
    }
  },
  "cells": [
    {
      "cell_type": "code",
      "execution_count": 45,
      "metadata": {
        "id": "XrfKwQe6HFT_"
      },
      "outputs": [],
      "source": [
        "# Write a Python Program to Add Two Matrices?\n",
        "\n",
        "mat= [[1,2],[3,4]]\n",
        "mat1=[[2,3],[4,5]]\n",
        "mat_final=[[0,0],[0,0]]\n",
        "\n",
        "for i in range(len(mat)):\n",
        "  for j in range(len(mat[0])):\n",
        "    mat_final[i][j]=mat[i][j]+mat1[i][j]\n"
      ]
    },
    {
      "cell_type": "code",
      "source": [
        "mat_final"
      ],
      "metadata": {
        "colab": {
          "base_uri": "https://localhost:8080/"
        },
        "id": "-aYBqYkXITqy",
        "outputId": "4b6acf4b-4654-44f2-eb25-547567c6ae9c"
      },
      "execution_count": 46,
      "outputs": [
        {
          "output_type": "execute_result",
          "data": {
            "text/plain": [
              "[[3, 5], [7, 9]]"
            ]
          },
          "metadata": {},
          "execution_count": 46
        }
      ]
    },
    {
      "cell_type": "code",
      "source": [
        "#2.Write a Python Program to Multiply Two Matrices?\n",
        "\n",
        "mat= [[1,2],[3,4]]\n",
        "mat1=[[2,3],[4,5]]\n",
        "mat_final=[[0,0],[0,0]]\n",
        "\n",
        "for i in range(len(mat)):\n",
        "  for j in range(len(mat[0])):\n",
        "    for k in range(len(mat1)):\n",
        "      mat_final[i][j]+= mat[i][k]*mat1[k][j]\n"
      ],
      "metadata": {
        "id": "i_MtWxmcITni"
      },
      "execution_count": 47,
      "outputs": []
    },
    {
      "cell_type": "code",
      "source": [
        "mat_final"
      ],
      "metadata": {
        "id": "l5ffBwuEITld",
        "colab": {
          "base_uri": "https://localhost:8080/"
        },
        "outputId": "65648a14-190e-4ffa-d7bb-60779522f6cd"
      },
      "execution_count": 48,
      "outputs": [
        {
          "output_type": "execute_result",
          "data": {
            "text/plain": [
              "[[10, 13], [22, 29]]"
            ]
          },
          "metadata": {},
          "execution_count": 48
        }
      ]
    },
    {
      "cell_type": "code",
      "source": [
        "#3.Write a Python Program to Transpose a Matrix?\n",
        "\n",
        "mat= [[1,2],[3,4]]\n",
        "mat1=[[0,0],[0,0]]\n",
        "for i in range(len(mat)):\n",
        "  for j in range(len(mat[0])):\n",
        "    mat1[i][j] = mat[j][i]"
      ],
      "metadata": {
        "id": "yBZyAuNNISFO"
      },
      "execution_count": 54,
      "outputs": []
    },
    {
      "cell_type": "code",
      "source": [
        "mat1"
      ],
      "metadata": {
        "id": "44K2MnsSIR3Z",
        "colab": {
          "base_uri": "https://localhost:8080/"
        },
        "outputId": "8134fc07-8d65-4ef3-dcc9-b4fe87318dc9"
      },
      "execution_count": 55,
      "outputs": [
        {
          "output_type": "execute_result",
          "data": {
            "text/plain": [
              "[[1, 3], [2, 4]]"
            ]
          },
          "metadata": {},
          "execution_count": 55
        }
      ]
    },
    {
      "cell_type": "code",
      "source": [
        "#4.Write a Python Program to Sort Words in Alphabetic Order?\n",
        "\n",
        "\n",
        "a = ['shrut',\n",
        "      'shah',\n",
        "      'vishwa',\n",
        "      'divyesh',\n",
        "      'shilpa']\n",
        "\n",
        "a.sort()"
      ],
      "metadata": {
        "id": "oVEji0gvcvOz"
      },
      "execution_count": 56,
      "outputs": []
    },
    {
      "cell_type": "code",
      "source": [
        "a"
      ],
      "metadata": {
        "colab": {
          "base_uri": "https://localhost:8080/"
        },
        "id": "WzHrueutdMep",
        "outputId": "a436a3a3-e493-4b42-d3df-347c7d506073"
      },
      "execution_count": 57,
      "outputs": [
        {
          "output_type": "execute_result",
          "data": {
            "text/plain": [
              "['divyesh', 'shah', 'shilpa', 'shrut', 'vishwa']"
            ]
          },
          "metadata": {},
          "execution_count": 57
        }
      ]
    },
    {
      "cell_type": "code",
      "source": [
        "#5.Write a Python Program to Remove Punctuation From a String?\n",
        "\n",
        "s=['.',\n",
        "'?',\n",
        "'!',\n",
        "',',\n",
        "':',\n",
        "';',\n",
        "'-' ,\n",
        "'[',\n",
        "']',\n",
        "'{',\n",
        "'}',\n",
        "\"'\",\n",
        "'\"']\n",
        "\n",
        "n = \"Hi, My name is 'Shrut Shah'. What an amazing day! ; What is your name?\"\n",
        "print('before',n)\n",
        "for i in range(len(n)):\n",
        "  if n[i] in s:\n",
        "    n = n.replace(n[i],' ')\n"
      ],
      "metadata": {
        "colab": {
          "base_uri": "https://localhost:8080/"
        },
        "id": "MJTUDvnKdXKq",
        "outputId": "d8bd3096-eff3-4972-95fa-aead12c8e8e8"
      },
      "execution_count": 83,
      "outputs": [
        {
          "output_type": "stream",
          "name": "stdout",
          "text": [
            "before Hi, My name is 'Shrut Shah'. What an amazing day! ; What is your name?\n"
          ]
        }
      ]
    },
    {
      "cell_type": "code",
      "source": [
        "print('After',n)"
      ],
      "metadata": {
        "colab": {
          "base_uri": "https://localhost:8080/"
        },
        "id": "4J90R2bRdXHJ",
        "outputId": "18aca501-a09b-415c-f898-29aa3e134802"
      },
      "execution_count": 84,
      "outputs": [
        {
          "output_type": "stream",
          "name": "stdout",
          "text": [
            "After Hi  My name is  Shrut Shah   What an amazing day    What is your name \n"
          ]
        }
      ]
    }
  ]
}