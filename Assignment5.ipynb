{
  "nbformat": 4,
  "nbformat_minor": 0,
  "metadata": {
    "colab": {
      "name": "Assignment5.ipynb",
      "provenance": [],
      "collapsed_sections": []
    },
    "kernelspec": {
      "name": "python3",
      "display_name": "Python 3"
    },
    "language_info": {
      "name": "python"
    }
  },
  "cells": [
    {
      "cell_type": "code",
      "execution_count": null,
      "metadata": {
        "id": "mx-_Mk7Z-N8F"
      },
      "outputs": [],
      "source": [
        "'''\n",
        "1. What does an empty dictionary's code look like?\n",
        "2. What is the value of a dictionary value with the key 'foo' and the value 42?\n",
        "3. What is the most significant distinction between a dictionary and a list?\n",
        "4. What happens if you try to access spam['foo'] if spam is {'bar': 100}?\n",
        "5. If a dictionary is stored in spam, what is the difference between the expressions 'cat' in spam and 'cat' in spam.keys()?\n",
        "6. If a dictionary is stored in spam, what is the difference between the expressions 'cat' in spam and 'cat' in spam.values()?\n",
        "7. What is a shortcut for the following code?\n",
        "if 'color' not in spam:\n",
        "spam['color'] = 'black'\n",
        "\n",
        "8. How do you \"pretty print\" dictionary values using which module and function?\n",
        "'''"
      ]
    },
    {
      "cell_type": "markdown",
      "source": [
        "1. \n"
      ],
      "metadata": {
        "id": "ExLSOHnA-Xnv"
      }
    },
    {
      "cell_type": "code",
      "source": [
        "d = {'':''}"
      ],
      "metadata": {
        "id": "y_Fj4xnG-kSj"
      },
      "execution_count": null,
      "outputs": []
    },
    {
      "cell_type": "code",
      "source": [
        "type(d)"
      ],
      "metadata": {
        "colab": {
          "base_uri": "https://localhost:8080/"
        },
        "id": "P5SxuFWW-oLf",
        "outputId": "79a20e63-5b91-48e9-832d-4bbfd9426529"
      },
      "execution_count": null,
      "outputs": [
        {
          "output_type": "execute_result",
          "data": {
            "text/plain": [
              "dict"
            ]
          },
          "metadata": {},
          "execution_count": 3
        }
      ]
    },
    {
      "cell_type": "code",
      "source": [
        "d"
      ],
      "metadata": {
        "colab": {
          "base_uri": "https://localhost:8080/"
        },
        "id": "lwiriRAo-9eG",
        "outputId": "a4ff38f1-eeef-4367-9018-3fc93d04dcf5"
      },
      "execution_count": null,
      "outputs": [
        {
          "output_type": "execute_result",
          "data": {
            "text/plain": [
              "{'': ''}"
            ]
          },
          "metadata": {},
          "execution_count": 4
        }
      ]
    },
    {
      "cell_type": "markdown",
      "source": [
        "2. \n",
        "\n",
        "\n",
        "value of d['foo'] -> 42 "
      ],
      "metadata": {
        "id": "vTTmZxWZ_BiA"
      }
    },
    {
      "cell_type": "code",
      "source": [
        "d={'foo':42}\n",
        "d"
      ],
      "metadata": {
        "colab": {
          "base_uri": "https://localhost:8080/"
        },
        "id": "ysbdQpK-_Acg",
        "outputId": "9be9d5bc-3956-4566-d828-3489855c1233"
      },
      "execution_count": null,
      "outputs": [
        {
          "output_type": "execute_result",
          "data": {
            "text/plain": [
              "{'foo': 42}"
            ]
          },
          "metadata": {},
          "execution_count": 5
        }
      ]
    },
    {
      "cell_type": "code",
      "source": [
        "3.\n",
        "\n",
        "#dictionary contain key,value pairs.\n",
        "#list contain only different values with by default indexing.\n"
      ],
      "metadata": {
        "id": "3BesyErg_Vsg"
      },
      "execution_count": null,
      "outputs": []
    },
    {
      "cell_type": "markdown",
      "source": [
        "4. \n",
        "\n",
        "we get key error"
      ],
      "metadata": {
        "id": "Ym2jXu-8_0UM"
      }
    },
    {
      "cell_type": "markdown",
      "source": [
        "5.\n",
        "\n",
        "in dictionary 'cat' is value of some key while in case of spam.keys() 'cat' is the key.\n",
        "\n"
      ],
      "metadata": {
        "id": "81KbblyeAF-A"
      }
    },
    {
      "cell_type": "markdown",
      "source": [
        "6. \n",
        "\n",
        "\n",
        "in this case both are same. They represent value of some key."
      ],
      "metadata": {
        "id": "hJyLrZFVAfCj"
      }
    },
    {
      "cell_type": "markdown",
      "source": [
        "7.\n",
        "\n",
        "we can simply write without checking the condition.\n",
        "\n",
        "spam['color']= 'black'\n"
      ],
      "metadata": {
        "id": "D0LbH2wRAsZc"
      }
    },
    {
      "cell_type": "markdown",
      "source": [
        "8.\n",
        "\n",
        "module -> pprint\n",
        "\n",
        "function -> pprint()"
      ],
      "metadata": {
        "id": "XXuDxI32BFHv"
      }
    },
    {
      "cell_type": "code",
      "source": [
        "import pprint"
      ],
      "metadata": {
        "id": "msiO3YePvLy1"
      },
      "execution_count": 2,
      "outputs": []
    },
    {
      "cell_type": "code",
      "source": [
        "d = [ {4: 'a', 3 : 'b', 5 : 'c', 1 : 'd'}, {4: 'e', 3 : 'f', 5 : 'g', 1 : 'h'}, {4: 'i', 3 : 'j', 5 : 'k', 1 : 'l'}]"
      ],
      "metadata": {
        "id": "Os5Hmr78vWft"
      },
      "execution_count": 8,
      "outputs": []
    },
    {
      "cell_type": "code",
      "source": [
        "print(d)"
      ],
      "metadata": {
        "colab": {
          "base_uri": "https://localhost:8080/"
        },
        "id": "hxoPYeR4vrrq",
        "outputId": "b2675433-fe71-423b-83f8-f6f02fc191b6"
      },
      "execution_count": 10,
      "outputs": [
        {
          "output_type": "stream",
          "name": "stdout",
          "text": [
            "[{4: 'a', 3: 'b', 5: 'c', 1: 'd'}, {4: 'e', 3: 'f', 5: 'g', 1: 'h'}, {4: 'i', 3: 'j', 5: 'k', 1: 'l'}]\n"
          ]
        }
      ]
    },
    {
      "cell_type": "code",
      "source": [
        "pprint.pprint(d)"
      ],
      "metadata": {
        "colab": {
          "base_uri": "https://localhost:8080/"
        },
        "id": "I2KT25rAvui8",
        "outputId": "7f4e0a11-f2ad-4161-d840-9084b62522b0"
      },
      "execution_count": 11,
      "outputs": [
        {
          "output_type": "stream",
          "name": "stdout",
          "text": [
            "[{1: 'd', 3: 'b', 4: 'a', 5: 'c'},\n",
            " {1: 'h', 3: 'f', 4: 'e', 5: 'g'},\n",
            " {1: 'l', 3: 'j', 4: 'i', 5: 'k'}]\n"
          ]
        }
      ]
    }
  ]
}