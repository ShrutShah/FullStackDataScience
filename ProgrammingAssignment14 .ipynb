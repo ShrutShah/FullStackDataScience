{
  "nbformat": 4,
  "nbformat_minor": 0,
  "metadata": {
    "colab": {
      "name": "ProgrammingAssignment14.ipynb",
      "provenance": []
    },
    "kernelspec": {
      "name": "python3",
      "display_name": "Python 3"
    },
    "language_info": {
      "name": "python"
    }
  },
  "cells": [
    {
      "cell_type": "code",
      "execution_count": null,
      "metadata": {
        "id": "C_UMNaaVuxsP"
      },
      "outputs": [],
      "source": [
        "'''\n",
        "Question 1:\n",
        "Define a class with a generator which can iterate the numbers,\n",
        "which are divisible by 7, between a given range 0 and n.\n",
        "'''"
      ]
    },
    {
      "cell_type": "code",
      "source": [
        "class div7:\n",
        "  def __init__(self,n):\n",
        "    self.n = n\n",
        "\n",
        "  def check(self):\n",
        "    for i in range(self.n+1):\n",
        "      if i%7==0:\n",
        "        yield i"
      ],
      "metadata": {
        "id": "vF8MLmWjvDjE"
      },
      "execution_count": null,
      "outputs": []
    },
    {
      "cell_type": "code",
      "source": [
        "s = div7(100)"
      ],
      "metadata": {
        "id": "Gtgte84UvOeN"
      },
      "execution_count": null,
      "outputs": []
    },
    {
      "cell_type": "code",
      "source": [
        "type(s.check())"
      ],
      "metadata": {
        "colab": {
          "base_uri": "https://localhost:8080/"
        },
        "id": "B5HKqmoswdJi",
        "outputId": "c24958ac-06a2-4856-bf09-fc04e4317a9b"
      },
      "execution_count": null,
      "outputs": [
        {
          "output_type": "execute_result",
          "data": {
            "text/plain": [
              "generator"
            ]
          },
          "metadata": {},
          "execution_count": 10
        }
      ]
    },
    {
      "cell_type": "code",
      "source": [
        "l = s.check()"
      ],
      "metadata": {
        "id": "H1wl_rd7wvEW"
      },
      "execution_count": null,
      "outputs": []
    },
    {
      "cell_type": "code",
      "source": [
        "for i in l:\n",
        "  print(i,end=' ')"
      ],
      "metadata": {
        "colab": {
          "base_uri": "https://localhost:8080/"
        },
        "id": "MnQfONokxWQ6",
        "outputId": "633f8074-c982-4ff5-9382-38ae1f88937a"
      },
      "execution_count": null,
      "outputs": [
        {
          "output_type": "stream",
          "name": "stdout",
          "text": [
            "0 7 14 21 28 35 42 49 56 63 70 77 84 91 98 "
          ]
        }
      ]
    },
    {
      "cell_type": "code",
      "source": [
        "'''\n",
        "Write a program to compute the frequency of the words from the input. The output should output after sorting the key alphanumerically. \n",
        "\n",
        "Suppose the following input is supplied to the program:\n",
        "\n",
        "New to Python or choosing between Python 2 and Python 3? Read Python 2 or Python 3.\n",
        "\n",
        "Then, the output should be:\n",
        "\n",
        "2:2\n",
        "3.:1\n",
        "3?:1\n",
        "New:1\n",
        "Python:5\n",
        "Read:1\n",
        "and:1\n",
        "between:1\n",
        "choosing:1\n",
        "or:2\n",
        "to:1\n",
        "\n",
        "'''"
      ],
      "metadata": {
        "id": "eRXpAelRxgIi"
      },
      "execution_count": null,
      "outputs": []
    },
    {
      "cell_type": "code",
      "source": [
        "s=input('Enter ')\n",
        "l = s.split(' ')"
      ],
      "metadata": {
        "colab": {
          "base_uri": "https://localhost:8080/"
        },
        "id": "1wTmrf4KzIbB",
        "outputId": "728a14ef-cebf-4465-a8b6-ec8194fb4269"
      },
      "execution_count": null,
      "outputs": [
        {
          "name": "stdout",
          "output_type": "stream",
          "text": [
            "Enter New to Python or choosing between Python 2 and Python 3? Read Python 2 or Python 3.\n"
          ]
        }
      ]
    },
    {
      "cell_type": "code",
      "source": [
        "l"
      ],
      "metadata": {
        "colab": {
          "base_uri": "https://localhost:8080/"
        },
        "id": "vYUjLgrBzbft",
        "outputId": "c92410a0-38b9-4706-da27-739936cb3081"
      },
      "execution_count": null,
      "outputs": [
        {
          "output_type": "execute_result",
          "data": {
            "text/plain": [
              "['New',\n",
              " 'to',\n",
              " 'Python',\n",
              " 'or',\n",
              " 'choosing',\n",
              " 'between',\n",
              " 'Python',\n",
              " '2',\n",
              " 'and',\n",
              " 'Python',\n",
              " '3?',\n",
              " 'Read',\n",
              " 'Python',\n",
              " '2',\n",
              " 'or',\n",
              " 'Python',\n",
              " '3.']"
            ]
          },
          "metadata": {},
          "execution_count": 14
        }
      ]
    },
    {
      "cell_type": "code",
      "source": [
        "c = 0\n",
        "d={}\n",
        "for i in l:\n",
        "  c=0\n",
        "  for j in l:\n",
        "      if i == j:\n",
        "        c+=1\n",
        "  d[i]=c    "
      ],
      "metadata": {
        "id": "iK8FvZBCziXt"
      },
      "execution_count": null,
      "outputs": []
    },
    {
      "cell_type": "code",
      "source": [
        "d"
      ],
      "metadata": {
        "colab": {
          "base_uri": "https://localhost:8080/"
        },
        "id": "jxvTPsdB0iJH",
        "outputId": "8b904e13-3ccf-4398-c152-9482025cc74a"
      },
      "execution_count": null,
      "outputs": [
        {
          "output_type": "execute_result",
          "data": {
            "text/plain": [
              "{'2': 2,\n",
              " '3.': 1,\n",
              " '3?': 1,\n",
              " 'New': 1,\n",
              " 'Python': 5,\n",
              " 'Read': 1,\n",
              " 'and': 1,\n",
              " 'between': 1,\n",
              " 'choosing': 1,\n",
              " 'or': 2,\n",
              " 'to': 1}"
            ]
          },
          "metadata": {},
          "execution_count": 16
        }
      ]
    },
    {
      "cell_type": "code",
      "source": [
        "l=list(d.keys())"
      ],
      "metadata": {
        "id": "O9jxIMdY0qhA"
      },
      "execution_count": null,
      "outputs": []
    },
    {
      "cell_type": "code",
      "source": [
        "l.sort()"
      ],
      "metadata": {
        "id": "L0btkZSB03Co"
      },
      "execution_count": null,
      "outputs": []
    },
    {
      "cell_type": "code",
      "source": [
        "l"
      ],
      "metadata": {
        "colab": {
          "base_uri": "https://localhost:8080/"
        },
        "id": "EC1I3elg0_sx",
        "outputId": "e3383d39-ef6e-4123-900f-22947a22d15e"
      },
      "execution_count": null,
      "outputs": [
        {
          "output_type": "execute_result",
          "data": {
            "text/plain": [
              "['2',\n",
              " '3.',\n",
              " '3?',\n",
              " 'New',\n",
              " 'Python',\n",
              " 'Read',\n",
              " 'and',\n",
              " 'between',\n",
              " 'choosing',\n",
              " 'or',\n",
              " 'to']"
            ]
          },
          "metadata": {},
          "execution_count": 21
        }
      ]
    },
    {
      "cell_type": "code",
      "source": [
        "d1={}\n",
        "for i in range(len(l)):\n",
        "   d1[l[i]]=d[l[i]]"
      ],
      "metadata": {
        "id": "Bb90HwX01DoK"
      },
      "execution_count": null,
      "outputs": []
    },
    {
      "cell_type": "code",
      "source": [
        "d1"
      ],
      "metadata": {
        "colab": {
          "base_uri": "https://localhost:8080/"
        },
        "id": "_Afwlk8B15nW",
        "outputId": "eac39ca4-26fa-4bd3-b144-e1ed570d9f40"
      },
      "execution_count": null,
      "outputs": [
        {
          "output_type": "execute_result",
          "data": {
            "text/plain": [
              "{'2': 2,\n",
              " '3.': 1,\n",
              " '3?': 1,\n",
              " 'New': 1,\n",
              " 'Python': 5,\n",
              " 'Read': 1,\n",
              " 'and': 1,\n",
              " 'between': 1,\n",
              " 'choosing': 1,\n",
              " 'or': 2,\n",
              " 'to': 1}"
            ]
          },
          "metadata": {},
          "execution_count": 23
        }
      ]
    },
    {
      "cell_type": "code",
      "source": [
        "'''\n",
        "Define a class Person and its two child classes: Male and Female. \n",
        "All classes have a method \"getGender\" which can \n",
        "print \"Male\" for Male class and \"Female\" for Female class.\n",
        "'''"
      ],
      "metadata": {
        "id": "Apb6FCWq188P"
      },
      "execution_count": null,
      "outputs": []
    },
    {
      "cell_type": "code",
      "source": [
        "class Person:\n",
        "  def getGender(self):\n",
        "    print('not available')\n",
        "\n",
        "class Male(Person):\n",
        "  def getGender(self):\n",
        "    print('male')\n",
        "\n",
        "class female(Person):\n",
        "  def getGender(self):\n",
        "    print('female')"
      ],
      "metadata": {
        "id": "ikHUuqJm2Hav"
      },
      "execution_count": null,
      "outputs": []
    },
    {
      "cell_type": "code",
      "source": [
        "a = Male()\n",
        "b = female()"
      ],
      "metadata": {
        "id": "hh4oYEM62713"
      },
      "execution_count": null,
      "outputs": []
    },
    {
      "cell_type": "code",
      "source": [
        "a.getGender()"
      ],
      "metadata": {
        "colab": {
          "base_uri": "https://localhost:8080/"
        },
        "id": "OxtxQhv_5Kkj",
        "outputId": "8ac38d15-fc16-429a-9bd4-ce0b3c1ade4b"
      },
      "execution_count": null,
      "outputs": [
        {
          "output_type": "stream",
          "name": "stdout",
          "text": [
            "male\n"
          ]
        }
      ]
    },
    {
      "cell_type": "code",
      "source": [
        "b.getGender()"
      ],
      "metadata": {
        "colab": {
          "base_uri": "https://localhost:8080/"
        },
        "id": "_ZOe9yAB5V8e",
        "outputId": "421dcfdd-773c-4bcb-b742-528b21d84f0c"
      },
      "execution_count": null,
      "outputs": [
        {
          "output_type": "stream",
          "name": "stdout",
          "text": [
            "female\n"
          ]
        }
      ]
    },
    {
      "cell_type": "code",
      "source": [
        "'''\n",
        "Question 4:\n",
        "Please write a program to generate all sentences where subject is in [\"I\", \"You\"] \n",
        "and verb is in [\"Play\", \"Love\"] and the object is in [\"Hockey\",\"Football\"].\n",
        "'''"
      ],
      "metadata": {
        "id": "HbXrZ53J5ZTk"
      },
      "execution_count": null,
      "outputs": []
    },
    {
      "cell_type": "code",
      "source": [
        "subject = [\"I\", \"You\"]\n",
        "verb = [\"Play\", \"Love\"]\n",
        "obj = [\"Hockey\",\"Football\"]"
      ],
      "metadata": {
        "id": "i-khtmVx5ed6"
      },
      "execution_count": null,
      "outputs": []
    },
    {
      "cell_type": "code",
      "source": [
        "for i in subject:\n",
        "  for j in verb:\n",
        "    for k in obj:\n",
        "      print(i+' '+j+' '+k)"
      ],
      "metadata": {
        "colab": {
          "base_uri": "https://localhost:8080/"
        },
        "id": "3vvhprOp5741",
        "outputId": "799587ec-f5fe-4905-d713-84edb03c3a96"
      },
      "execution_count": null,
      "outputs": [
        {
          "output_type": "stream",
          "name": "stdout",
          "text": [
            "I Play Hockey\n",
            "I Play Football\n",
            "I Love Hockey\n",
            "I Love Football\n",
            "You Play Hockey\n",
            "You Play Football\n",
            "You Love Hockey\n",
            "You Love Football\n"
          ]
        }
      ]
    },
    {
      "cell_type": "code",
      "source": [
        "'''\n",
        "Question 5:\n",
        "Please write a program to compress and decompress the \n",
        "string \"hello world!hello world!hello world!hello world!\".\n",
        "\n",
        "'''"
      ],
      "metadata": {
        "id": "N_5Y_f2h7TUr"
      },
      "execution_count": null,
      "outputs": []
    },
    {
      "cell_type": "code",
      "source": [
        "import zlib\n"
      ],
      "metadata": {
        "id": "QZ4dE2wZ7XT6"
      },
      "execution_count": null,
      "outputs": []
    },
    {
      "cell_type": "code",
      "source": [
        "s = b'hello world!hello world!hello world!hello world!'\n",
        "x =zlib.compress(s)"
      ],
      "metadata": {
        "id": "63ES-wFI_i5y"
      },
      "execution_count": null,
      "outputs": []
    },
    {
      "cell_type": "code",
      "source": [
        "print(x)"
      ],
      "metadata": {
        "colab": {
          "base_uri": "https://localhost:8080/"
        },
        "id": "PuKhOnsIAnhF",
        "outputId": "28765d6a-dee0-4841-de28-85267f5fd00b"
      },
      "execution_count": null,
      "outputs": [
        {
          "output_type": "stream",
          "name": "stdout",
          "text": [
            "b'x\\x9c\\xcbH\\xcd\\xc9\\xc9W(\\xcf/\\xcaIQ\\xcc \\x82\\r\\x00\\xbd[\\x11\\xf5'\n"
          ]
        }
      ]
    },
    {
      "cell_type": "code",
      "source": [
        "zlib.decompress(x)"
      ],
      "metadata": {
        "colab": {
          "base_uri": "https://localhost:8080/"
        },
        "id": "FyjCsMgGAuBq",
        "outputId": "23cbcdcb-1b07-49ab-c185-f50b149cfc86"
      },
      "execution_count": null,
      "outputs": [
        {
          "output_type": "execute_result",
          "data": {
            "text/plain": [
              "b'hello world!hello world!hello world!hello world!'"
            ]
          },
          "metadata": {},
          "execution_count": 56
        }
      ]
    },
    {
      "cell_type": "code",
      "source": [
        "'''\n",
        "Please write a binary search function which searches an item in a sorted list. \n",
        "The function should return the index of element to be searched in the list.\n",
        "'''"
      ],
      "metadata": {
        "id": "_9ZTdiLDBKKe"
      },
      "execution_count": null,
      "outputs": []
    },
    {
      "cell_type": "code",
      "source": [
        "def bsearch(arr, low, high, x):\n",
        "    if high >= low:\n",
        "        mid = (high + low) // 2\n",
        "        if arr[mid] == x:\n",
        "            return mid\n",
        "        elif arr[mid] > x:\n",
        "            return bsearch(arr, low, mid - 1, x)\n",
        "        else:\n",
        "            return bsearch(arr, mid + 1, high, x)\n",
        "    else:\n",
        "        return -1 "
      ],
      "metadata": {
        "id": "FIcrKQb-O1G9"
      },
      "execution_count": 189,
      "outputs": []
    },
    {
      "cell_type": "code",
      "source": [
        "arr = [1,2,3,4,5,6,7]\n",
        "bsearch(arr,0,6,7)"
      ],
      "metadata": {
        "colab": {
          "base_uri": "https://localhost:8080/"
        },
        "id": "-w6xuyM_R72Z",
        "outputId": "c3ddc76a-8cfc-4509-9d61-f96e2c24ebed"
      },
      "execution_count": 190,
      "outputs": [
        {
          "output_type": "execute_result",
          "data": {
            "text/plain": [
              "6"
            ]
          },
          "metadata": {},
          "execution_count": 190
        }
      ]
    },
    {
      "cell_type": "code",
      "source": [
        "arr = [1,2,3,4,5,6,7]\n",
        "bsearch(arr,0,6,9)"
      ],
      "metadata": {
        "colab": {
          "base_uri": "https://localhost:8080/"
        },
        "id": "ehD9Q7JwSIbY",
        "outputId": "5069323f-9ab3-4294-e537-fef5f71c7e13"
      },
      "execution_count": 191,
      "outputs": [
        {
          "output_type": "execute_result",
          "data": {
            "text/plain": [
              "-1"
            ]
          },
          "metadata": {},
          "execution_count": 191
        }
      ]
    }
  ]
}